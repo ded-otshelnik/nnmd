{
 "cells": [
  {
   "cell_type": "code",
   "execution_count": 10,
   "metadata": {},
   "outputs": [],
   "source": [
    "from mdnn.nn.atomic_nn import AtomicNN\n",
    "from mdnn.nn.neural_network import NeuralNetwork\n",
    "\n",
    "from mdnn.util.params_parser import parser\n",
    "from mdnn.symmetry_functions.sf import calculate_sf, G_TYPE"
   ]
  },
  {
   "cell_type": "code",
   "execution_count": 5,
   "metadata": {},
   "outputs": [],
   "source": [
    "file = 'example.txt'\n",
    "cartesians, forces = parser(file)"
   ]
  },
  {
   "cell_type": "code",
   "execution_count": 11,
   "metadata": {},
   "outputs": [
    {
     "ename": "TypeError",
     "evalue": "unsupported operand type(s) for -: 'float' and 'list'",
     "output_type": "error",
     "traceback": [
      "\u001b[1;31m---------------------------------------------------------------------------\u001b[0m",
      "\u001b[1;31mTypeError\u001b[0m                                 Traceback (most recent call last)",
      "\u001b[1;32md:\\repos\\md-nn\\atomic_nn.ipynb Cell 3\u001b[0m line \u001b[0;36m7\n\u001b[0;32m      <a href='vscode-notebook-cell:/d%3A/repos/md-nn/atomic_nn.ipynb#W4sZmlsZQ%3D%3D?line=4'>5</a>\u001b[0m \u001b[39mfor\u001b[39;00m struct \u001b[39min\u001b[39;00m cartesians:\n\u001b[0;32m      <a href='vscode-notebook-cell:/d%3A/repos/md-nn/atomic_nn.ipynb#W4sZmlsZQ%3D%3D?line=5'>6</a>\u001b[0m     \u001b[39mfor\u001b[39;00m ri \u001b[39min\u001b[39;00m struct:\n\u001b[1;32m----> <a href='vscode-notebook-cell:/d%3A/repos/md-nn/atomic_nn.ipynb#W4sZmlsZQ%3D%3D?line=6'>7</a>\u001b[0m         g_i, dg_i \u001b[39m=\u001b[39m calculate_sf(ri, cartesians, G_TYPE\u001b[39m.\u001b[39;49mG1, rc)\n",
      "File \u001b[1;32md:\\repos\\md-nn\\mdnn\\symmetry_functions\\sf.py:52\u001b[0m, in \u001b[0;36mcalculate_sf\u001b[1;34m(ri, cartesians, g_type, r_cutoff, eta, rs, k, lambda_, xi)\u001b[0m\n\u001b[0;32m     50\u001b[0m     \u001b[39mcontinue\u001b[39;00m\n\u001b[0;32m     51\u001b[0m \u001b[39m# distance between centers of atoms\u001b[39;00m\n\u001b[1;32m---> 52\u001b[0m rij \u001b[39m=\u001b[39m math\u001b[39m.\u001b[39msqrt(\u001b[39msum\u001b[39;49m((i \u001b[39m-\u001b[39;49m j) \u001b[39m*\u001b[39;49m\u001b[39m*\u001b[39;49m \u001b[39m2\u001b[39;49m \u001b[39mfor\u001b[39;49;00m i, j \u001b[39min\u001b[39;49;00m \u001b[39mzip\u001b[39;49m(ri, rj)))\n\u001b[0;32m     53\u001b[0m \u001b[39m# g1 and its derivatives\u001b[39;00m\n\u001b[0;32m     54\u001b[0m output \u001b[39m=\u001b[39m g1(rij, r_cutoff)\n",
      "File \u001b[1;32md:\\repos\\md-nn\\mdnn\\symmetry_functions\\sf.py:52\u001b[0m, in \u001b[0;36m<genexpr>\u001b[1;34m(.0)\u001b[0m\n\u001b[0;32m     50\u001b[0m     \u001b[39mcontinue\u001b[39;00m\n\u001b[0;32m     51\u001b[0m \u001b[39m# distance between centers of atoms\u001b[39;00m\n\u001b[1;32m---> 52\u001b[0m rij \u001b[39m=\u001b[39m math\u001b[39m.\u001b[39msqrt(\u001b[39msum\u001b[39m((i \u001b[39m-\u001b[39;49m j) \u001b[39m*\u001b[39m\u001b[39m*\u001b[39m \u001b[39m2\u001b[39m \u001b[39mfor\u001b[39;00m i, j \u001b[39min\u001b[39;00m \u001b[39mzip\u001b[39m(ri, rj)))\n\u001b[0;32m     53\u001b[0m \u001b[39m# g1 and its derivatives\u001b[39;00m\n\u001b[0;32m     54\u001b[0m output \u001b[39m=\u001b[39m g1(rij, r_cutoff)\n",
      "\u001b[1;31mTypeError\u001b[0m: unsupported operand type(s) for -: 'float' and 'list'"
     ]
    }
   ],
   "source": [
    "rc = 3.0\n",
    "\n",
    "g = []\n",
    "dg = []\n",
    "for struct in cartesians:\n",
    "    for ri in struct:\n",
    "        g_i, dg_i = calculate_sf(ri, cartesians, G_TYPE.G1, rc)"
   ]
  }
 ],
 "metadata": {
  "kernelspec": {
   "display_name": "Python 3",
   "language": "python",
   "name": "python3"
  },
  "language_info": {
   "codemirror_mode": {
    "name": "ipython",
    "version": 3
   },
   "file_extension": ".py",
   "mimetype": "text/x-python",
   "name": "python",
   "nbconvert_exporter": "python",
   "pygments_lexer": "ipython3",
   "version": "3.11.2"
  }
 },
 "nbformat": 4,
 "nbformat_minor": 2
}
